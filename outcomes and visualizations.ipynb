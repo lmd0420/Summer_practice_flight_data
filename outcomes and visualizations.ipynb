{
 "cells": [
  {
   "cell_type": "code",
   "execution_count": 3,
   "id": "6d0c2aff-ce0d-4af1-bb24-3e4adb4e5f32",
   "metadata": {},
   "outputs": [],
   "source": [
    "import pandas as pd\n",
    "import numpy as np"
   ]
  },
  {
   "cell_type": "code",
   "execution_count": 4,
   "id": "a7e8ba89-8b42-45ba-a14f-27f4a640d57e",
   "metadata": {},
   "outputs": [],
   "source": [
    "file1 = open(\"codeassist-logs.txt\", \"r\")\n",
    "\n",
    "t = []\n",
    "length = 0\n",
    "outcome = {}\n",
    "for line in file1:\n",
    "    line = line.split(\"- -\")\n",
    "    #print(line[0])\n",
    "    outcome[line[0]] = []\n",
    "    line = line[1].split(\"?\")\n",
    "    line = line[1].split()\n",
    "    line = line[0].split(\"&\")\n",
    "    t.append(line)\n",
    "    #print(line)\n",
    "    length+=1\n",
    "file1.close()\n",
    "for i in t:\n",
    "    if len(i) < 6:\n",
    "        while len(i) < 6:\n",
    "            i.append('N/A')\n",
    "\n",
    "for i in t:\n",
    "    tp = i[:]\n",
    "    for j in tp:\n",
    "    #print(i)\n",
    "        j = j.split(\"=\")\n",
    "        if len(j)>1:\n",
    "        #.remove(i[0])\n",
    "        #print(i)\n",
    "            i.append(j[1])\n",
    "        else:\n",
    "            i.append(j)\n",
    "for i in t:\n",
    "    i.remove(i[0])\n",
    "    i.remove(i[0])\n",
    "    i.remove(i[0])\n",
    "    i.remove(i[0])\n",
    "    i.remove(i[0])\n",
    "    i.remove(i[0])\n"
   ]
  },
  {
   "cell_type": "code",
   "execution_count": 5,
   "id": "85a7e261-37cd-45bb-b108-0f169efba77c",
   "metadata": {},
   "outputs": [],
   "source": [
    "count = 0 \n",
    "file1 = open(\"codeassist-logs.txt\", \"r\")\n",
    "lines = file1.readlines()\n",
    "#print(lines[20])\n",
    "while count <= len(t)-1:\n",
    "    lines[count] = lines[count].split(\"- -\")\n",
    "    t[count].append(lines[count][0])\n",
    "    count+=1\n",
    "\n",
    "\n",
    "file1.close()"
   ]
  },
  {
   "cell_type": "code",
   "execution_count": 6,
   "id": "fc7ab8ec-5508-4aeb-b78b-558332f76b27",
   "metadata": {},
   "outputs": [],
   "source": [
    "file1 = open(\"codeassist-logs.txt\", \"r\")\n",
    "for line in file1:\n",
    "    line = line.split(\" - - \")\n",
    "    line[1] = line[1].split(\" \")\n",
    "    line[1][0] = line[1][0][1:]\n",
    "    #line[1][0].remove(\"[\")\n",
    "    #print(line[1][0])\n",
    "    \n",
    "count = 0 \n",
    "file1 = open(\"codeassist-logs.txt\", \"r\")\n",
    "lines = file1.readlines()\n",
    "#print(lines[20])\n",
    "while count <= len(t)-1:\n",
    "    lines[count] = lines[count].split(\"- -\")\n",
    "    #print(lines[count][1])\n",
    "    lines[count][1] = lines[count][1].split(\" \")\n",
    "    #print(lines[count][1])\n",
    "    lines[count][1][1] = lines[count][1][1][1:]\n",
    "    #print(lines[count][1][1])\n",
    "    t[count].append(lines[count][1][1])\n",
    "    count+=1"
   ]
  },
  {
   "cell_type": "code",
   "execution_count": 38,
   "id": "270806c3-07f7-4a62-b792-a8377c923da5",
   "metadata": {},
   "outputs": [
    {
     "data": {
      "text/html": [
       "<div>\n",
       "<style scoped>\n",
       "    .dataframe tbody tr th:only-of-type {\n",
       "        vertical-align: middle;\n",
       "    }\n",
       "\n",
       "    .dataframe tbody tr th {\n",
       "        vertical-align: top;\n",
       "    }\n",
       "\n",
       "    .dataframe thead th {\n",
       "        text-align: right;\n",
       "    }\n",
       "</style>\n",
       "<table border=\"1\" class=\"dataframe\">\n",
       "  <thead>\n",
       "    <tr style=\"text-align: right;\">\n",
       "      <th></th>\n",
       "      <th>Username</th>\n",
       "      <th>Course</th>\n",
       "      <th>Lang</th>\n",
       "      <th>Nr</th>\n",
       "      <th>Feedback</th>\n",
       "      <th>complieCheck</th>\n",
       "      <th>IP Address</th>\n",
       "      <th>Login time</th>\n",
       "    </tr>\n",
       "  </thead>\n",
       "  <tbody>\n",
       "    <tr>\n",
       "      <th>0</th>\n",
       "      <td>tschurder0518</td>\n",
       "      <td>cs665</td>\n",
       "      <td>Java</td>\n",
       "      <td>Assignment-4</td>\n",
       "      <td>spotbugs</td>\n",
       "      <td>yes</td>\n",
       "      <td>136.32.43.68</td>\n",
       "      <td>19/Apr/2021:17:09:37</td>\n",
       "    </tr>\n",
       "    <tr>\n",
       "      <th>1</th>\n",
       "      <td>gchriswill</td>\n",
       "      <td>cs665</td>\n",
       "      <td>Java</td>\n",
       "      <td>Assignment-2</td>\n",
       "      <td>spotbugs</td>\n",
       "      <td>yes</td>\n",
       "      <td>70.120.122.28</td>\n",
       "      <td>19/Apr/2021:18:17:36</td>\n",
       "    </tr>\n",
       "    <tr>\n",
       "      <th>2</th>\n",
       "      <td>gchriswill</td>\n",
       "      <td>cs665</td>\n",
       "      <td>Java</td>\n",
       "      <td>Assignment-2</td>\n",
       "      <td>spotbugs</td>\n",
       "      <td>yes\"</td>\n",
       "      <td>70.120.122.28</td>\n",
       "      <td>19/Apr/2021:18:17:37</td>\n",
       "    </tr>\n",
       "    <tr>\n",
       "      <th>3</th>\n",
       "      <td>gchriswill</td>\n",
       "      <td>cs665</td>\n",
       "      <td>Java</td>\n",
       "      <td>Assignment-2</td>\n",
       "      <td>spotbugs</td>\n",
       "      <td>yes</td>\n",
       "      <td>70.120.122.28</td>\n",
       "      <td>19/Apr/2021:18:29:32</td>\n",
       "    </tr>\n",
       "    <tr>\n",
       "      <th>4</th>\n",
       "      <td>gchriswill</td>\n",
       "      <td>cs665</td>\n",
       "      <td>Java</td>\n",
       "      <td>Assignment-2</td>\n",
       "      <td>stylegoogle</td>\n",
       "      <td>yes</td>\n",
       "      <td>70.120.122.28</td>\n",
       "      <td>19/Apr/2021:18:29:51</td>\n",
       "    </tr>\n",
       "    <tr>\n",
       "      <th>...</th>\n",
       "      <td>...</td>\n",
       "      <td>...</td>\n",
       "      <td>...</td>\n",
       "      <td>...</td>\n",
       "      <td>...</td>\n",
       "      <td>...</td>\n",
       "      <td>...</td>\n",
       "      <td>...</td>\n",
       "    </tr>\n",
       "    <tr>\n",
       "      <th>896</th>\n",
       "      <td>gchriswill</td>\n",
       "      <td>cs665</td>\n",
       "      <td>Java</td>\n",
       "      <td>assignment-project</td>\n",
       "      <td>spotbugs</td>\n",
       "      <td>yes</td>\n",
       "      <td>100.17.19.135</td>\n",
       "      <td>01/May/2021:22:40:26</td>\n",
       "    </tr>\n",
       "    <tr>\n",
       "      <th>897</th>\n",
       "      <td>kecarr9</td>\n",
       "      <td>cs665</td>\n",
       "      <td>Java</td>\n",
       "      <td>assignment-project</td>\n",
       "      <td>spotbugs</td>\n",
       "      <td>yes</td>\n",
       "      <td>100.17.19.135</td>\n",
       "      <td>01/May/2021:22:50:30</td>\n",
       "    </tr>\n",
       "    <tr>\n",
       "      <th>898</th>\n",
       "      <td>kaihu-cs</td>\n",
       "      <td>cs665</td>\n",
       "      <td>Java</td>\n",
       "      <td>assignment-project</td>\n",
       "      <td>spotbugs</td>\n",
       "      <td>yes</td>\n",
       "      <td>100.17.19.135</td>\n",
       "      <td>01/May/2021:22:51:14</td>\n",
       "    </tr>\n",
       "    <tr>\n",
       "      <th>899</th>\n",
       "      <td>darkhosh</td>\n",
       "      <td>cs665</td>\n",
       "      <td>Java</td>\n",
       "      <td>assignment-project</td>\n",
       "      <td>spotbugs</td>\n",
       "      <td>yes</td>\n",
       "      <td>100.17.19.135</td>\n",
       "      <td>02/May/2021:11:00:31</td>\n",
       "    </tr>\n",
       "    <tr>\n",
       "      <th>900</th>\n",
       "      <td>darkhosh</td>\n",
       "      <td>cs665</td>\n",
       "      <td>Java</td>\n",
       "      <td>assignment-project</td>\n",
       "      <td>tests</td>\n",
       "      <td>yes</td>\n",
       "      <td>100.17.19.135</td>\n",
       "      <td>02/May/2021:11:00:47</td>\n",
       "    </tr>\n",
       "  </tbody>\n",
       "</table>\n",
       "<p>884 rows × 8 columns</p>\n",
       "</div>"
      ],
      "text/plain": [
       "          Username Course  Lang                  Nr     Feedback complieCheck  \\\n",
       "0    tschurder0518  cs665  Java        Assignment-4     spotbugs          yes   \n",
       "1       gchriswill  cs665  Java        Assignment-2     spotbugs          yes   \n",
       "2       gchriswill  cs665  Java        Assignment-2     spotbugs         yes\"   \n",
       "3       gchriswill  cs665  Java        Assignment-2     spotbugs          yes   \n",
       "4       gchriswill  cs665  Java        Assignment-2  stylegoogle          yes   \n",
       "..             ...    ...   ...                 ...          ...          ...   \n",
       "896     gchriswill  cs665  Java  assignment-project     spotbugs          yes   \n",
       "897        kecarr9  cs665  Java  assignment-project     spotbugs          yes   \n",
       "898       kaihu-cs  cs665  Java  assignment-project     spotbugs          yes   \n",
       "899       darkhosh  cs665  Java  assignment-project     spotbugs          yes   \n",
       "900       darkhosh  cs665  Java  assignment-project        tests          yes   \n",
       "\n",
       "         IP Address            Login time  \n",
       "0     136.32.43.68   19/Apr/2021:17:09:37  \n",
       "1    70.120.122.28   19/Apr/2021:18:17:36  \n",
       "2    70.120.122.28   19/Apr/2021:18:17:37  \n",
       "3    70.120.122.28   19/Apr/2021:18:29:32  \n",
       "4    70.120.122.28   19/Apr/2021:18:29:51  \n",
       "..              ...                   ...  \n",
       "896  100.17.19.135   01/May/2021:22:40:26  \n",
       "897  100.17.19.135   01/May/2021:22:50:30  \n",
       "898  100.17.19.135   01/May/2021:22:51:14  \n",
       "899  100.17.19.135   02/May/2021:11:00:31  \n",
       "900  100.17.19.135   02/May/2021:11:00:47  \n",
       "\n",
       "[884 rows x 8 columns]"
      ]
     },
     "execution_count": 38,
     "metadata": {},
     "output_type": "execute_result"
    }
   ],
   "source": [
    "df = pd.DataFrame([i for i in t],columns = ['Username', 'Course', 'Lang', 'Nr', 'Feedback', 'complieCheck', 'IP Address', \"Login time\"])\n",
    "df = df[df['Course'].str.contains('cs')]\n",
    "df"
   ]
  },
  {
   "cell_type": "code",
   "execution_count": 40,
   "id": "a1b2ffbf",
   "metadata": {},
   "outputs": [
    {
     "name": "stdout",
     "output_type": "stream",
     "text": [
      "<class 'pandas.core.frame.DataFrame'>\n",
      "Int64Index: 884 entries, 0 to 900\n",
      "Data columns (total 8 columns):\n",
      " #   Column        Non-Null Count  Dtype \n",
      "---  ------        --------------  ----- \n",
      " 0   Username      884 non-null    object\n",
      " 1   Course        884 non-null    object\n",
      " 2   Lang          884 non-null    object\n",
      " 3   Nr            884 non-null    object\n",
      " 4   Feedback      884 non-null    object\n",
      " 5   complieCheck  884 non-null    object\n",
      " 6   IP Address    884 non-null    object\n",
      " 7   Login time    884 non-null    object\n",
      "dtypes: object(8)\n",
      "memory usage: 62.2+ KB\n"
     ]
    }
   ],
   "source": [
    "df.info()"
   ]
  },
  {
   "cell_type": "code",
   "execution_count": 10,
   "id": "556eb2fc-bf8d-4b48-9aef-994f35f0a978",
   "metadata": {},
   "outputs": [
    {
     "data": {
      "text/plain": [
       "Username          Nr                \n",
       "                  Assignment-1           5\n",
       "                  Assignment-3           2\n",
       "                  Assignment-4           1\n",
       "IndiraSomavarapu  Assignment-6          12\n",
       "                  assignment-project    13\n",
       "                                        ..\n",
       "wruoting          assignment-project     8\n",
       "xianghuang1993    Assignment-6           4\n",
       "                  assignment-project     6\n",
       "yakidzoba         Assignment-6          13\n",
       "                  assignment-project    20\n",
       "Name: Feedback, Length: 77, dtype: int64"
      ]
     },
     "execution_count": 10,
     "metadata": {},
     "output_type": "execute_result"
    }
   ],
   "source": [
    "# add date and time.\n",
    "\n",
    "\n",
    "# Q1: What is the submission count of each user per assignment? \n",
    "groups = df.groupby(['Username', 'Nr']).count()['Feedback']\n",
    "groups\n"
   ]
  },
  {
   "cell_type": "code",
   "execution_count": 33,
   "id": "8fc7c647-bc5e-4540-ae28-ef7ef0b88353",
   "metadata": {},
   "outputs": [
    {
     "data": {
      "text/html": [
       "<div>\n",
       "<style scoped>\n",
       "    .dataframe tbody tr th:only-of-type {\n",
       "        vertical-align: middle;\n",
       "    }\n",
       "\n",
       "    .dataframe tbody tr th {\n",
       "        vertical-align: top;\n",
       "    }\n",
       "\n",
       "    .dataframe thead th {\n",
       "        text-align: right;\n",
       "    }\n",
       "</style>\n",
       "<table border=\"1\" class=\"dataframe\">\n",
       "  <thead>\n",
       "    <tr style=\"text-align: right;\">\n",
       "      <th></th>\n",
       "      <th></th>\n",
       "      <th>Feedback</th>\n",
       "    </tr>\n",
       "    <tr>\n",
       "      <th>Username</th>\n",
       "      <th>Nr</th>\n",
       "      <th></th>\n",
       "    </tr>\n",
       "  </thead>\n",
       "  <tbody>\n",
       "    <tr>\n",
       "      <th>SheenaShahangian</th>\n",
       "      <th>Assignment-6</th>\n",
       "      <td>48</td>\n",
       "    </tr>\n",
       "  </tbody>\n",
       "</table>\n",
       "</div>"
      ],
      "text/plain": [
       "                               Feedback\n",
       "Username         Nr                    \n",
       "SheenaShahangian Assignment-6        48"
      ]
     },
     "execution_count": 33,
     "metadata": {},
     "output_type": "execute_result"
    }
   ],
   "source": [
    "# Q2: What is the max submission count? (separated by assignment)\n",
    "df2 = df.groupby(['Username','Nr']).count()['Feedback']\n",
    "df2_1 = pd.DataFrame(df2)\n",
    "df2_1[df2_1['Feedback'] == df2.max()]"
   ]
  },
  {
   "cell_type": "code",
   "execution_count": 46,
   "id": "690e53c8-4935-40f2-ac3f-34901be8fd5e",
   "metadata": {},
   "outputs": [
    {
     "data": {
      "text/plain": [
       "Nr\n",
       "Assignment-1           1.648649\n",
       "Assignment-2           0.189189\n",
       "Assignment-3           0.486486\n",
       "Assignment-4           0.486486\n",
       "Assignment-6           8.081081\n",
       "assignment-project    13.000000\n",
       "Name: Feedback, dtype: float64"
      ]
     },
     "execution_count": 46,
     "metadata": {},
     "output_type": "execute_result"
    }
   ],
   "source": [
    "# Q3: What is the average of submission count? (separated by assignment)\n",
    "df3 = df.groupby(['Nr']).count()['Feedback']\n",
    "df3_1 = pd.DataFrame(df3)\n",
    "df3_1['Feedback']/len(df['Username'].unique())\n"
   ]
  },
  {
   "cell_type": "code",
   "execution_count": 50,
   "id": "24d7231f-512d-45c8-9979-93973a976066",
   "metadata": {},
   "outputs": [
    {
     "data": {
      "text/html": [
       "<div>\n",
       "<style scoped>\n",
       "    .dataframe tbody tr th:only-of-type {\n",
       "        vertical-align: middle;\n",
       "    }\n",
       "\n",
       "    .dataframe tbody tr th {\n",
       "        vertical-align: top;\n",
       "    }\n",
       "\n",
       "    .dataframe thead th {\n",
       "        text-align: right;\n",
       "    }\n",
       "</style>\n",
       "<table border=\"1\" class=\"dataframe\">\n",
       "  <thead>\n",
       "    <tr style=\"text-align: right;\">\n",
       "      <th></th>\n",
       "      <th>Feedback</th>\n",
       "    </tr>\n",
       "    <tr>\n",
       "      <th>Nr</th>\n",
       "      <th></th>\n",
       "    </tr>\n",
       "  </thead>\n",
       "  <tbody>\n",
       "    <tr>\n",
       "      <th>Assignment-1</th>\n",
       "      <td>5.0</td>\n",
       "    </tr>\n",
       "    <tr>\n",
       "      <th>Assignment-2</th>\n",
       "      <td>7.0</td>\n",
       "    </tr>\n",
       "    <tr>\n",
       "      <th>Assignment-3</th>\n",
       "      <td>2.0</td>\n",
       "    </tr>\n",
       "    <tr>\n",
       "      <th>Assignment-4</th>\n",
       "      <td>2.0</td>\n",
       "    </tr>\n",
       "    <tr>\n",
       "      <th>Assignment-6</th>\n",
       "      <td>8.5</td>\n",
       "    </tr>\n",
       "    <tr>\n",
       "      <th>assignment-project</th>\n",
       "      <td>14.0</td>\n",
       "    </tr>\n",
       "  </tbody>\n",
       "</table>\n",
       "</div>"
      ],
      "text/plain": [
       "                    Feedback\n",
       "Nr                          \n",
       "Assignment-1             5.0\n",
       "Assignment-2             7.0\n",
       "Assignment-3             2.0\n",
       "Assignment-4             2.0\n",
       "Assignment-6             8.5\n",
       "assignment-project      14.0"
      ]
     },
     "execution_count": 50,
     "metadata": {},
     "output_type": "execute_result"
    }
   ],
   "source": [
    "# Q4: What is the median of submission count?(separated by assignment)\n",
    "df4 = df.groupby(['Username','Nr']).count()['Feedback']\n",
    "df4_1 = pd.DataFrame(df4)\n",
    "df4_1.groupby(['Nr']).median()\n"
   ]
  },
  {
   "cell_type": "code",
   "execution_count": 51,
   "id": "d3067965-b86b-4c36-bcf1-901735f25e0a",
   "metadata": {},
   "outputs": [
    {
     "name": "stdout",
     "output_type": "stream",
     "text": [
      "uml    250\n",
      "Name: Feedback, dtype: int64\n"
     ]
    }
   ],
   "source": [
    "# Q5: What is the most asked submission type? (build, test)\n",
    "groups = df[df['Nr'] != None]\n",
    "feedbacks = groups['Feedback'].value_counts()\n",
    "print(submissions.nlargest(1))\n"
   ]
  },
  {
   "cell_type": "code",
   "execution_count": 55,
   "id": "ecf56857-e2be-4d2a-aba2-77e4a85848e2",
   "metadata": {},
   "outputs": [
    {
     "data": {
      "text/plain": [
       "636"
      ]
     },
     "execution_count": 55,
     "metadata": {},
     "output_type": "execute_result"
    }
   ],
   "source": [
    "# Q6: How many submissions need compile check?\n",
    "len(df[df['complieCheck'] == 'yes'])"
   ]
  },
  {
   "cell_type": "code",
   "execution_count": null,
   "id": "278dc1e4-239e-407f-baf5-a6df739b8c46",
   "metadata": {},
   "outputs": [],
   "source": [
    "\n",
    "# Mathplotlib \n",
    "\n",
    "# Add Visualizations and Graphs\n",
    "\n",
    "# A Bar Plot that shows the submission number per day.\n",
    "\n",
    "# A histogram that shows the distribution of submissions per assignments per user"
   ]
  },
  {
   "cell_type": "code",
   "execution_count": null,
   "id": "de9c6c06-c2b6-4d17-ad79-73f4a26a0180",
   "metadata": {},
   "outputs": [],
   "source": [
    "# Add your own question ideas"
   ]
  }
 ],
 "metadata": {
  "kernelspec": {
   "display_name": "Python 3 (ipykernel)",
   "language": "python",
   "name": "python3"
  },
  "language_info": {
   "codemirror_mode": {
    "name": "ipython",
    "version": 3
   },
   "file_extension": ".py",
   "mimetype": "text/x-python",
   "name": "python",
   "nbconvert_exporter": "python",
   "pygments_lexer": "ipython3",
   "version": "3.9.7"
  }
 },
 "nbformat": 4,
 "nbformat_minor": 5
}
